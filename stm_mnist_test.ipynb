{
 "cells": [
  {
   "cell_type": "code",
   "execution_count": 1,
   "metadata": {
    "ExecuteTime": {
     "end_time": "2020-08-11T10:00:38.472693Z",
     "start_time": "2020-08-11T10:00:37.383997Z"
    }
   },
   "outputs": [],
   "source": [
    "%matplotlib inline\n",
    "import numpy as np\n",
    "import matplotlib.pyplot as plt\n",
    "import tensorflow as tf\n",
    "import tensorflow.keras as keras\n",
    "\n",
    "from IPython.display import display, clear_output\n",
    "import logging\n",
    "logging.getLogger('tensorflow').disabled = True\n",
    "\n"
   ]
  },
  {
   "cell_type": "code",
   "execution_count": 2,
   "metadata": {
    "ExecuteTime": {
     "end_time": "2020-08-11T10:00:38.657433Z",
     "start_time": "2020-08-11T10:00:38.473764Z"
    },
    "scrolled": true
   },
   "outputs": [],
   "source": [
    "from tensorflow.keras.datasets import mnist\n",
    "(x_train, y_train), (x_test, y_test) = mnist.load_data()\n",
    "import matplotlib.pyplot as plt"
   ]
  },
  {
   "cell_type": "code",
   "execution_count": 3,
   "metadata": {
    "ExecuteTime": {
     "end_time": "2020-08-11T10:00:38.660388Z",
     "start_time": "2020-08-11T10:00:38.658306Z"
    }
   },
   "outputs": [],
   "source": [
    "import sys\n",
    "from stm.stm import STM, RBF2DInterpolation"
   ]
  },
  {
   "cell_type": "markdown",
   "metadata": {
    "ExecuteTime": {
     "end_time": "2020-01-14T13:15:18.942174Z",
     "start_time": "2020-01-14T11:30:10.917Z"
    }
   },
   "source": [
    "# Training a GTM with the GTM object"
   ]
  },
  {
   "cell_type": "markdown",
   "metadata": {},
   "source": [
    "### Constants and Plots"
   ]
  },
  {
   "cell_type": "code",
   "execution_count": 4,
   "metadata": {
    "ExecuteTime": {
     "end_time": "2020-08-11T10:00:38.858297Z",
     "start_time": "2020-08-11T10:00:38.661093Z"
    }
   },
   "outputs": [],
   "source": [
    "# Model constants ----\n",
    "\n",
    "x_train = 2*x_train/255 - 1\n",
    "x_test = 2*x_train/255 - 1\n",
    "inp_num = x_train.shape[1:]\n",
    "inp_side = inp_num[0]\n",
    "out_num = 10**2\n",
    "out_side = int(np.sqrt(out_num))\n",
    "initial_lr = 0.05\n",
    "initial_sigma = out_side//8\n",
    "min_sigma =0.7\n",
    "\n",
    "x = np.arange(out_side)\n",
    "X, Y = np.meshgrid(x, x)\n",
    "grid = np.vstack([X.ravel(), Y.ravel()]).T\n",
    "\n",
    "points = np.array([\n",
    "    [1, 3],\n",
    "    [1, 6],\n",
    "    [3, 1],\n",
    "    [3, 8],\n",
    "    [4.5, 3],\n",
    "    [4.5, 6],\n",
    "    [6, 1],\n",
    "    [6, 8],\n",
    "    [8, 3],\n",
    "    [8, 6]])\n",
    "\n",
    "def gauss(d, s): return np.exp(-0.5*(s**-2)*d**2)\n",
    "\n",
    "# Scheduling constants ----\n",
    "\n",
    "x_train = x_train\n",
    "\n",
    "decay_window = 60.0\n",
    "data = x_train\n",
    "data_num = x_train.shape[0]\n",
    "batches_num = 10\n",
    "batch_size = data_num // batches_num\n",
    "epochs = 200\n",
    "idcs = np.arange(data_num)\n",
    "idx = 54"
   ]
  },
  {
   "cell_type": "code",
   "execution_count": 5,
   "metadata": {
    "ExecuteTime": {
     "end_time": "2020-08-11T10:00:38.892437Z",
     "start_time": "2020-08-11T10:00:38.859592Z"
    }
   },
   "outputs": [],
   "source": [
    "# initialize plots ----\n",
    "plt.ioff()\n",
    "\n",
    "fig = plt.figure(figsize=(18, 10))\n",
    "\n",
    "# The current digit image\n",
    "ax1 = fig.add_subplot(131, aspect=\"equal\")\n",
    "digit = ax1.imshow(data[idx],vmin=-1, vmax=1, cmap=plt.cm.Greys)\n",
    "ax1.set_axis_off()\n",
    "\n",
    "# The weights plotted as digit prototypes\n",
    "ax2 = fig.add_subplot(132, aspect=\"equal\")\n",
    "w = ax2.imshow(np.random.rand(10, 10),vmin=-1, vmax=1, cmap=plt.cm.Greys)   \n",
    "ax2.set_axis_off()\n",
    "\n",
    "# The grid of target positions of prototypes\n",
    "ppoints = points.copy()\n",
    "ppoints[:,1] = 9 - ppoints[:,1]\n",
    "ax3 = fig.add_subplot(133, aspect=\"equal\")\n",
    "_ = ax3.scatter(*ppoints.T)\n",
    "for i,p in enumerate(ppoints):\n",
    "    _ = ax3.text(*(p+0.2), \"%d\" % i, fontsize=20)\n",
    "_ = ax3.set_xlim([0,9])\n",
    "_ = ax3.set_ylim([0,9])"
   ]
  },
  {
   "cell_type": "markdown",
   "metadata": {},
   "source": [
    "### Model"
   ]
  },
  {
   "cell_type": "code",
   "execution_count": 6,
   "metadata": {
    "ExecuteTime": {
     "end_time": "2020-08-11T10:00:39.758318Z",
     "start_time": "2020-08-11T10:00:38.893967Z"
    }
   },
   "outputs": [
    {
     "name": "stdout",
     "output_type": "stream",
     "text": [
      "Model: \"functional_1\"\n",
      "__________________________________________________________________________________________________\n",
      "Layer (type)                    Output Shape         Param #     Connected to                     \n",
      "==================================================================================================\n",
      "input_2 (InputLayer)            [(None, 28, 28)]     0                                            \n",
      "__________________________________________________________________________________________________\n",
      "flatten (Flatten)               (None, 784)          0           input_2[0][0]                    \n",
      "__________________________________________________________________________________________________\n",
      "input_1 (InputLayer)            [(None, 100)]        0                                            \n",
      "__________________________________________________________________________________________________\n",
      "stm (STM)                       (None, 100)          78401       flatten[0][0]                    \n",
      "__________________________________________________________________________________________________\n",
      "tf_op_layer_Mul (TensorFlowOpLa [(None, 100)]        0           stm[0][0]                        \n",
      "                                                                 input_1[0][0]                    \n",
      "__________________________________________________________________________________________________\n",
      "tf_op_layer_Mean (TensorFlowOpL [(None,)]            0           tf_op_layer_Mul[0][0]            \n",
      "__________________________________________________________________________________________________\n",
      "add_loss (AddLoss)              (None,)              0           tf_op_layer_Mean[0][0]           \n",
      "==================================================================================================\n",
      "Total params: 78,401\n",
      "Trainable params: 78,400\n",
      "Non-trainable params: 1\n",
      "__________________________________________________________________________________________________\n"
     ]
    }
   ],
   "source": [
    "# Model graph ----\n",
    "\n",
    "dists = keras.layers.Input(shape = [out_num])\n",
    "stm = STM(out_num, initial_sigma, name=\"stm\")\n",
    "\n",
    "# the graph for the GTM\n",
    "inp = keras.layers.Input(shape = [*inp_num])\n",
    "flat_inp = keras.layers.Flatten()(inp)\n",
    "stm_out = stm(flat_inp)\n",
    "\n",
    "model = keras.models.Model(inputs=[inp, dists], outputs=stm_out)\n",
    "# loss for the som layer. \n",
    "# Two parameters for a supervised-topological map.\n",
    "# dists contains the radial bases of the positions of the targets for each item\n",
    "model.add_loss(stm.loss(stm_out, dists))\n",
    "\n",
    "model.compile(optimizer=keras.optimizers.Adam(learning_rate=initial_lr), metrics=None)\n",
    "model.summary()\n",
    "\n",
    "@tf.function\n",
    "def forward_spread(inp):\n",
    "    flat_inp = keras.layers.Flatten()(inp)\n",
    "    return stm(flat_inp)\n",
    "    \n",
    "@tf.function\n",
    "def backward_spread(out):\n",
    "    flat_inp = stm.backward(out)\n",
    "    return keras.layers.Reshape(inp_num)(flat_inp)\n",
    "\n",
    "model.forward_spread = forward_spread\n",
    "model.backward_spread = backward_spread\n"
   ]
  },
  {
   "cell_type": "markdown",
   "metadata": {
    "ExecuteTime": {
     "end_time": "2020-01-14T13:15:18.945118Z",
     "start_time": "2020-01-14T13:10:27.662Z"
    }
   },
   "source": [
    "### Training"
   ]
  },
  {
   "cell_type": "code",
   "execution_count": null,
   "metadata": {
    "ExecuteTime": {
     "end_time": "2020-08-11T10:05:01.323666Z",
     "start_time": "2020-08-11T10:00:39.759507Z"
    },
    "code_folding": [
     41
    ],
    "scrolled": true
   },
   "outputs": [
    {
     "name": "stdout",
     "output_type": "stream",
     "text": [
      "epoch:  0\n",
      "loss: 0.8249919950962067\n"
     ]
    },
    {
     "data": {
      "image/png": "[encoded data removed]",
      "text/plain": [
       "<Figure size 1296x720 with 3 Axes>"
      ]
     },
     "metadata": {},
     "output_type": "display_data"
    }
   ],
   "source": [
    "# iterate epochs ----\n",
    "losses = []\n",
    "for epoch in range(epochs):\n",
    "    np.random.shuffle(idcs)\n",
    "\n",
    "    # learning rate and sigma annealing\n",
    "    curr_sigma = initial_sigma*np.exp(-epoch/decay_window)\n",
    "    curr_rl = initial_lr*np.exp(-epoch/decay_window)\n",
    "    \n",
    "    # update learning rate and sigma in the graph \n",
    "    keras.backend.set_value(model.get_layer(\"stm\").sigma, curr_sigma)\n",
    "    keras.backend.set_value(model.optimizer.lr, curr_rl)\n",
    "    \n",
    "    # iterate batches ----\n",
    "    loss = []\n",
    "    for batch in range(batches_num):\n",
    "         \n",
    "        # define current indices\n",
    "        start_batch = batch * batch_size\n",
    "        end_batch = (batch + 1) * batch_size\n",
    "        curr_idcs = idcs[start_batch:end_batch]\n",
    "\n",
    "        # define current the radial bases of the positions \n",
    "        # of the targets for each item in the batch\n",
    "        targets = y_train[curr_idcs]  \n",
    "        target_distances = gauss(\n",
    "            np.linalg.norm(\n",
    "                grid.reshape(1, out_num, 2) - \n",
    "                points[targets].reshape(-1, 1, 2), axis=-1), \n",
    "            curr_sigma)\n",
    "        \n",
    "        # train\n",
    "        loss_ = model.train_on_batch([data[curr_idcs], target_distances])\n",
    "        loss.append(loss_)\n",
    "\n",
    "    losses.append(np.mean(loss))\n",
    "    # update plot ----\n",
    "    if epoch % 20 == 0 or epoch == epochs -1:\n",
    "\n",
    "        # get current weights  \n",
    "        weights = model.get_layer('stm').kernel.numpy()\n",
    "        # reshape weights so to obtain a matrix of matrices (the actual prototypes)\n",
    "        weights = weights.reshape(inp_side, inp_side, out_side, out_side)\\\n",
    "            .transpose(2,0,3,1).reshape(inp_side*out_side, inp_side*out_side)  \n",
    "        digit.set_data(data[idcs[idx]])\n",
    "        \n",
    "        # update digit plot\n",
    "        digit.set_clim(data[idcs[idx]].min(),data[idcs[idx]].max())\n",
    "        #update weights plot\n",
    "        w.set_data(weights)\n",
    "        w.set_clim(weights.min(),weights.max())\n",
    "        \n",
    "        # display\n",
    "        clear_output()\n",
    "        print(\"epoch: \", epoch)\n",
    "        print(\"loss:\", losses[epoch])\n",
    "        display(fig)\n",
    "        \n",
    "clear_output()\n",
    "display(fig)\n"
   ]
  },
  {
   "cell_type": "code",
   "execution_count": null,
   "metadata": {
    "ExecuteTime": {
     "end_time": "2020-08-11T10:05:02.493886Z",
     "start_time": "2020-08-11T10:05:01.324447Z"
    }
   },
   "outputs": [],
   "source": [
    "clear_output()\n",
    "plt.figure(figsize=(8,8))\n",
    "side = 10\n",
    "ratio = out_side // side\n",
    "side_rnd = 7\n",
    "\n",
    "points = np.random.rand(side_rnd*side_rnd,2)*10\n",
    "points = points.astype(\"float32\")\n",
    "\n",
    "outs = RBF2DInterpolation(points, 0.7, side*side).numpy()\n",
    "generated = model.backward_spread(outs)\n",
    "\n",
    "for x in range(side_rnd):\n",
    "    for y in range(side_rnd): \n",
    "        \n",
    "        plt.subplot(side_rnd, side_rnd, x + y*side_rnd +1)\n",
    "        plt.imshow(generated[x*side_rnd + y], cmap=plt.cm.Greys)\n",
    "        plt.axis(\"off\")\n",
    "plt.show()"
   ]
  }
 ],
 "metadata": {
  "kernelspec": {
   "display_name": "Python 3",
   "language": "python",
   "name": "python3"
  },
  "language_info": {
   "codemirror_mode": {
    "name": "ipython",
    "version": 3
   },
   "file_extension": ".py",
   "mimetype": "text/x-python",
   "name": "python",
   "nbconvert_exporter": "python",
   "pygments_lexer": "ipython3",
   "version": "3.6.9"
  },
  "latex_envs": {
   "LaTeX_envs_menu_present": true,
   "autoclose": false,
   "autocomplete": true,
   "bibliofile": "biblio.bib",
   "cite_by": "apalike",
   "current_citInitial": 1,
   "eqLabelWithNumbers": true,
   "eqNumInitial": 1,
   "hotkeys": {
    "equation": "Ctrl-E",
    "itemize": "Ctrl-I"
   },
   "labels_anchors": false,
   "latex_user_defs": false,
   "report_style_numbering": false,
   "user_envs_cfg": false
  },
  "toc": {
   "nav_menu": {},
   "number_sections": true,
   "sideBar": true,
   "skip_h1_title": false,
   "title_cell": "Table of Contents",
   "title_sidebar": "Contents",
   "toc_cell": false,
   "toc_position": {},
   "toc_section_display": true,
   "toc_window_display": false
  },
  "widgets": {
   "application/vnd.jupyter.widget-state+json": {
    "state": {},
    "version_major": 2,
    "version_minor": 0
   }
  }
 },
 "nbformat": 4,
 "nbformat_minor": 2
}
