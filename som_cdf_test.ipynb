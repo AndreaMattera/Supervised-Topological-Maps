{
 "cells": [
  {
   "cell_type": "code",
   "execution_count": 3,
   "metadata": {
    "ExecuteTime": {
     "end_time": "2020-08-13T10:32:35.626139Z",
     "start_time": "2020-08-13T10:32:34.528130Z"
    }
   },
   "outputs": [],
   "source": [
    "%matplotlib inline\n",
    "import numpy as np\n",
    "import matplotlib.pyplot as plt\n",
    "import tensorflow as tf\n",
    "import tensorflow.keras as keras\n",
    "\n",
    "from IPython.display import display, clear_output\n",
    "import logging\n",
    "logging.getLogger('tensorflow').disabled = True\n",
    "\n"
   ]
  },
  {
   "cell_type": "code",
   "execution_count": 4,
   "metadata": {
    "ExecuteTime": {
     "end_time": "2020-08-13T10:32:38.308302Z",
     "start_time": "2020-08-13T10:32:35.627291Z"
    },
    "scrolled": true
   },
   "outputs": [],
   "source": [
    "def load_cdf():\n",
    "    figs = np.loadtxt(\"cfd/figs\")\n",
    "    labels = np.loadtxt(\"cfd/labels\", dtype={\"names\":(\"class\",), \"formats\": (\"S2\",)})\n",
    "    label_names = [l[0].decode(\"UTF-8\") for l in labels]\n",
    "    label_cats = np.unique(label_names)\n",
    "    labels = np.hstack([np.squeeze(np.argwhere(l==label_cats)) for l in label_names])\n",
    "    return figs, labels, label_cats\n",
    "\n",
    "\n",
    "x_train, y_train, y_labels = load_cdf()\n"
   ]
  },
  {
   "cell_type": "code",
   "execution_count": 5,
   "metadata": {
    "ExecuteTime": {
     "end_time": "2020-08-13T10:32:38.311525Z",
     "start_time": "2020-08-13T10:32:38.309491Z"
    }
   },
   "outputs": [],
   "source": [
    "import sys\n",
    "from stm.stm import STM, RBF2DInterpolation"
   ]
  },
  {
   "cell_type": "markdown",
   "metadata": {
    "ExecuteTime": {
     "end_time": "2020-01-14T13:15:18.942174Z",
     "start_time": "2020-01-14T11:30:10.917Z"
    }
   },
   "source": [
    "# Training a GTM with the GTM object"
   ]
  },
  {
   "cell_type": "markdown",
   "metadata": {},
   "source": [
    "### Constants and Plots"
   ]
  },
  {
   "cell_type": "code",
   "execution_count": 6,
   "metadata": {
    "ExecuteTime": {
     "end_time": "2020-08-13T10:32:38.382916Z",
     "start_time": "2020-08-13T10:32:38.312320Z"
    }
   },
   "outputs": [],
   "source": [
    "# Model constants ----\n",
    "\n",
    "x_train = 2*x_train/255 - 1\n",
    "inp_num = x_train.shape[1:]\n",
    "inp_side = inp_num[0]\n",
    "out_num = 10**2\n",
    "out_side = int(np.sqrt(out_num))\n",
    "initial_lr = 0.05\n",
    "initial_sigma = out_side//8\n",
    "min_sigma =0.7"
   ]
  },
  {
   "cell_type": "code",
   "execution_count": 7,
   "metadata": {
    "ExecuteTime": {
     "end_time": "2020-08-13T10:32:38.388875Z",
     "start_time": "2020-08-13T10:32:38.384173Z"
    }
   },
   "outputs": [],
   "source": [
    "x = np.arange(out_side)\n",
    "X, Y = np.meshgrid(x, x)\n",
    "grid = np.vstack([X.ravel(), Y.ravel()]).T\n",
    "\n",
    "points = np.array([\n",
    "    [1. , 1. ], \n",
    "    [1. , 8. ], \n",
    "    [2.5, 4.5],\n",
    "    [4.5, 2.5],\n",
    "    [4.5, 6.5],\n",
    "    [6.5, 4.5],\n",
    "    [8. , 1. ], \n",
    "    [8. , 8. ]])\n",
    "\n",
    "def gauss(d, s): return np.exp(-0.5*(s**-2)*d**2)\n",
    "\n",
    "# Scheduling constants ----\n",
    "\n",
    "x_train = x_train\n",
    "\n",
    "decay_window = 60.0\n",
    "data = x_train\n",
    "data_num = x_train.shape[0]\n",
    "batches_num = 10\n",
    "batch_size = data_num // batches_num\n",
    "epochs = 200\n",
    "idcs = np.arange(data_num)\n",
    "inp_width = 152\n",
    "inp_height = 107\n",
    "idx=57"
   ]
  },
  {
   "cell_type": "markdown",
   "metadata": {},
   "source": [
    "### Model"
   ]
  },
  {
   "cell_type": "code",
   "execution_count": 8,
   "metadata": {
    "ExecuteTime": {
     "end_time": "2020-08-13T10:32:39.207019Z",
     "start_time": "2020-08-13T10:32:38.389759Z"
    }
   },
   "outputs": [
    {
     "name": "stdout",
     "output_type": "stream",
     "text": [
      "Model: \"functional_1\"\n",
      "__________________________________________________________________________________________________\n",
      "Layer (type)                    Output Shape         Param #     Connected to                     \n",
      "==================================================================================================\n",
      "input_2 (InputLayer)            [(None, 16264)]      0                                            \n",
      "__________________________________________________________________________________________________\n",
      "input_1 (InputLayer)            [(None, 100)]        0                                            \n",
      "__________________________________________________________________________________________________\n",
      "stm (STM)                       (None, 100)          1626401     input_2[0][0]                    \n",
      "__________________________________________________________________________________________________\n",
      "tf_op_layer_Shape (TensorFlowOp [(2,)]               0           stm[0][0]                        \n",
      "__________________________________________________________________________________________________\n",
      "tf_op_layer_Fill (TensorFlowOpL [(None, 100)]        0           tf_op_layer_Shape[0][0]          \n",
      "__________________________________________________________________________________________________\n",
      "tf_op_layer_Mul (TensorFlowOpLa [(None, 100)]        0           stm[0][0]                        \n",
      "                                                                 tf_op_layer_Fill[0][0]           \n",
      "__________________________________________________________________________________________________\n",
      "tf_op_layer_Mean (TensorFlowOpL [(None,)]            0           tf_op_layer_Mul[0][0]            \n",
      "__________________________________________________________________________________________________\n",
      "add_loss (AddLoss)              (None,)              0           tf_op_layer_Mean[0][0]           \n",
      "==================================================================================================\n",
      "Total params: 1,626,401\n",
      "Trainable params: 1,626,400\n",
      "Non-trainable params: 1\n",
      "__________________________________________________________________________________________________\n"
     ]
    }
   ],
   "source": [
    "# Model graph ----\n",
    "\n",
    "dists = keras.layers.Input(shape = [out_num])\n",
    "stm = STM(out_num, initial_sigma, name=\"stm\")\n",
    "\n",
    "# the graph for the GTM\n",
    "inp = keras.layers.Input(shape = inp_num)\n",
    "stm_out = stm(inp)\n",
    "\n",
    "model = keras.models.Model(inputs=[inp, dists], outputs=stm_out)\n",
    "# loss for the som layer. \n",
    "# One parameter for an unsupervised-topological map.\n",
    "model.add_loss(stm.loss(stm_out))\n",
    "\n",
    "model.compile(optimizer=keras.optimizers.Adam(learning_rate=initial_lr), metrics=None)\n",
    "model.summary()\n",
    "\n",
    "@tf.function\n",
    "def forward_spread(inp):\n",
    "    return stm(inp)\n",
    "    \n",
    "@tf.function\n",
    "def backward_spread(out):\n",
    "    inp = stm.backward(out)\n",
    "    return inp\n",
    "\n",
    "model.forward_spread = forward_spread\n",
    "model.backward_spread = backward_spread\n"
   ]
  },
  {
   "cell_type": "markdown",
   "metadata": {
    "ExecuteTime": {
     "end_time": "2020-01-14T13:15:18.945118Z",
     "start_time": "2020-01-14T13:10:27.662Z"
    }
   },
   "source": [
    "### Training"
   ]
  },
  {
   "cell_type": "code",
   "execution_count": null,
   "metadata": {
    "ExecuteTime": {
     "end_time": "2020-08-13T10:33:39.010522Z",
     "start_time": "2020-08-13T10:32:39.207806Z"
    }
   },
   "outputs": [
    {
     "name": "stdout",
     "output_type": "stream",
     "text": [
      "epoch:  80\n",
      "loss: 5.1750723361969\n"
     ]
    }
   ],
   "source": [
    "# iterate epochs ----\n",
    "losses = []\n",
    "for epoch in range(epochs):\n",
    "    np.random.shuffle(idcs)\n",
    "\n",
    "    # learning rate and sigma annealing\n",
    "    curr_sigma = initial_sigma*np.exp(-epoch/decay_window)\n",
    "    curr_rl = initial_lr*np.exp(-epoch/decay_window)\n",
    "    \n",
    "    # update learning rate and sigma in the graph \n",
    "    keras.backend.set_value(model.get_layer(\"stm\").sigma, curr_sigma)\n",
    "    keras.backend.set_value(model.optimizer.lr, curr_rl)\n",
    "    \n",
    "    # iterate batches ----\n",
    "    loss = []\n",
    "    for batch in range(batches_num):\n",
    "         \n",
    "        # define current indices\n",
    "        start_batch = batch * batch_size\n",
    "        end_batch = (batch + 1) * batch_size\n",
    "        curr_idcs = idcs[start_batch:end_batch]\n",
    "        \n",
    "        # train\n",
    "        loss_ = model.train_on_batch([data[curr_idcs]])\n",
    "        loss.append(loss_)\n",
    "\n",
    "    losses.append(np.mean(loss))\n",
    "    if epoch % 20 == 0 or epoch == epochs -1:\n",
    "        clear_output()\n",
    "        print(\"epoch: \", epoch)\n",
    "        print(\"loss:\", losses[epoch])"
   ]
  },
  {
   "cell_type": "code",
   "execution_count": null,
   "metadata": {
    "ExecuteTime": {
     "end_time": "2020-08-13T10:33:39.855922Z",
     "start_time": "2020-08-13T10:33:39.013741Z"
    }
   },
   "outputs": [],
   "source": [
    "# initialize plots ----\n",
    "fig1 = plt.figure(figsize=(20, 10))\n",
    "# The weights plotted as digit prototypes\n",
    "ax2 = fig1.add_subplot(111, aspect=\"auto\")\n",
    "w = ax2.imshow(np.random.rand(inp_height, inp_width),vmin=-1, vmax=1, cmap=plt.cm.gray)   \n",
    "ax2.set_axis_off()\n",
    "\n",
    "\n",
    "# get current weights  \n",
    "weights = model.get_layer('stm').kernel.numpy()\n",
    "# reshape weights so to obtain a matrix of matrices (the actual prototypes)\n",
    "weights = weights.reshape(inp_width, inp_height, out_side, out_side)\\\n",
    "    .transpose(3,0,2,1).reshape(inp_width*out_side,inp_height*out_side)  \n",
    "#update weights plot\n",
    "w.set_data(weights.T)\n",
    "w.set_clim(weights.min(),weights.max())\n",
    "\n",
    "# display\n",
    "fig1.tight_layout()\n",
    "\n",
    "display(fig1)\n"
   ]
  },
  {
   "cell_type": "code",
   "execution_count": null,
   "metadata": {
    "ExecuteTime": {
     "end_time": "2020-08-13T10:33:41.432953Z",
     "start_time": "2020-08-13T10:33:39.856737Z"
    }
   },
   "outputs": [],
   "source": [
    "plt.figure(figsize=(8,8))\n",
    "side = 10\n",
    "ratio = out_side // side\n",
    "side_rnd = 7\n",
    "\n",
    "points = np.random.rand(side_rnd*side_rnd,2)*10\n",
    "points = points.astype(\"float32\")\n",
    "\n",
    "outs = RBF2DInterpolation(points, 1.7, side*side).numpy()\n",
    "generated = model.backward_spread(outs).numpy()\n",
    "\n",
    "plt.figure(figsize=(18, 13))\n",
    "for x in range(side_rnd):\n",
    "    for y in range(side_rnd): \n",
    "        \n",
    "        plt.subplot(side_rnd, side_rnd, x + y*side_rnd +1)\n",
    "        plt.imshow(generated[x*side_rnd + y].reshape(inp_width, inp_height).T, cmap=plt.cm.gray)\n",
    "        plt.axis(\"off\")\n",
    "plt.tight_layout(0.1)\n",
    "plt.show()"
   ]
  }
 ],
 "metadata": {
  "kernelspec": {
   "display_name": "Python 3",
   "language": "python",
   "name": "python3"
  },
  "language_info": {
   "codemirror_mode": {
    "name": "ipython",
    "version": 3
   },
   "file_extension": ".py",
   "mimetype": "text/x-python",
   "name": "python",
   "nbconvert_exporter": "python",
   "pygments_lexer": "ipython3",
   "version": "3.6.9"
  },
  "latex_envs": {
   "LaTeX_envs_menu_present": true,
   "autoclose": false,
   "autocomplete": true,
   "bibliofile": "biblio.bib",
   "cite_by": "apalike",
   "current_citInitial": 1,
   "eqLabelWithNumbers": true,
   "eqNumInitial": 1,
   "hotkeys": {
    "equation": "Ctrl-E",
    "itemize": "Ctrl-I"
   },
   "labels_anchors": false,
   "latex_user_defs": false,
   "report_style_numbering": false,
   "user_envs_cfg": false
  },
  "toc": {
   "nav_menu": {},
   "number_sections": true,
   "sideBar": true,
   "skip_h1_title": false,
   "title_cell": "Table of Contents",
   "title_sidebar": "Contents",
   "toc_cell": false,
   "toc_position": {},
   "toc_section_display": true,
   "toc_window_display": false
  },
  "widgets": {
   "application/vnd.jupyter.widget-state+json": {
    "state": {},
    "version_major": 2,
    "version_minor": 0
   }
  }
 },
 "nbformat": 4,
 "nbformat_minor": 2
}
